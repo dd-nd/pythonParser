{
  "nbformat": 4,
  "nbformat_minor": 0,
  "metadata": {
    "colab": {
      "name": "bd",
      "provenance": [],
      "collapsed_sections": [],
      "authorship_tag": "ABX9TyN1ePzseYLus+Atdsf2kas2"
    },
    "kernelspec": {
      "name": "python3",
      "display_name": "Python 3"
    },
    "language_info": {
      "name": "python"
    }
  },
  "cells": [
    {
      "cell_type": "code",
      "execution_count": null,
      "metadata": {
        "id": "iNQDD8Hf0hYx"
      },
      "outputs": [],
      "source": [
        "%%bash\n",
        "apt update &> /dev/null\n",
        "apt install chromium-chromedriver &> /dev/null\n",
        "pip install selenium &> /dev/null"
      ]
    },
    {
      "cell_type": "code",
      "source": [
        "from selenium import webdriver\n",
        "from selenium.webdriver.common.by import By\n",
        "import pandas as pd\n",
        "from IPython.display import Image\n",
        "from selenium.webdriver.common.keys import Keys\n",
        "import time"
      ],
      "metadata": {
        "id": "rB8r76sX0kIR"
      },
      "execution_count": null,
      "outputs": []
    },
    {
      "cell_type": "code",
      "source": [
        "options = webdriver.ChromeOptions()\n",
        "options.add_argument('--headless')\n",
        "options.add_argument('--no-sandbox')\n",
        "options.add_argument('window-size=1400,800')\n",
        "options.add_argument('user-agent=Mozilla/5.0 (Windows NT 10.0; Win64; x64) AppleWebKit/537.36 (KHTML, like Gecko) Chrome/87.0.4280.141 Safari/537.36')"
      ],
      "metadata": {
        "id": "LOw7J7pa0lyj"
      },
      "execution_count": null,
      "outputs": []
    },
    {
      "cell_type": "code",
      "source": [
        "url_1='https://www.dns-shop.ru/catalog/17a8a01d16404e77/smartfony/?order=2&groupBy=avails&stock=now'\n",
        "wd = webdriver.Chrome(options=options)\n",
        "wd.get(url_1)\n",
        "wd.refresh()\n",
        "wd.find_element(By.CSS_SELECTOR, 'i.location-icon').click()\n",
        "time.sleep(8)\n",
        "wd.find_element(By.LINK_TEXT, 'Южный').click()\n",
        "time.sleep(5)\n",
        "wd.find_element(By.LINK_TEXT, 'Ростовская область').click()\n",
        "time.sleep(5)\n",
        "wd.find_element(By.LINK_TEXT, 'Ростов-на-Дону').click()\n",
        "time.sleep(10)\n",
        "name_1=[i.text for i in wd.find_elements(By.CLASS_NAME, 'catalog-product__name')]\n",
        "price_1=[i.text for i in wd.find_elements(By.CLASS_NAME, 'product-buy__price')]\n",
        "url_1=[i.get_attribute('href') for i in wd.find_elements(By.CSS_SELECTOR, 'a.catalog-product__name.ui-link.ui-link_black')]\n",
        "id_1=[i.get_attribute('data-code') for i in wd.find_elements(By.CSS_SELECTOR, 'div.catalog-product.ui-button-widget')]"
      ],
      "metadata": {
        "id": "oebvyC7Z048C"
      },
      "execution_count": null,
      "outputs": []
    },
    {
      "cell_type": "code",
      "source": [
        "url_2='https://www.dns-shop.ru/catalog/17a8a01d16404e77/smartfony/?order=2&groupBy=avails&stock=now&p=2'\n",
        "wd = webdriver.Chrome(options=options)\n",
        "wd.get(url_2)\n",
        "wd.refresh()\n",
        "wd.find_element(By.CSS_SELECTOR, 'i.location-icon').click()\n",
        "time.sleep(8)\n",
        "wd.find_element(By.LINK_TEXT, 'Южный').click()\n",
        "time.sleep(5)\n",
        "wd.find_element(By.LINK_TEXT, 'Ростовская область').click()\n",
        "time.sleep(5)\n",
        "wd.find_element(By.LINK_TEXT, 'Ростов-на-Дону').click()\n",
        "time.sleep(10)\n",
        "name_2=[i.text for i in wd.find_elements(By.CLASS_NAME, 'catalog-product__name')][:12]\n",
        "price_2=[i.text for i in wd.find_elements(By.CLASS_NAME, 'product-buy__price')][:12]\n",
        "url_2=[i.get_attribute('href') for i in wd.find_elements(By.CSS_SELECTOR, 'a.catalog-product__name.ui-link.ui-link_black')][:12]\n",
        "id_2=[i.get_attribute('data-code') for i in wd.find_elements(By.CSS_SELECTOR, 'div.catalog-product.ui-button-widget')][:12]"
      ],
      "metadata": {
        "id": "vSOAnyBnF2EU"
      },
      "execution_count": null,
      "outputs": []
    },
    {
      "cell_type": "code",
      "source": [
        "names=name_1+name_2\n",
        "prices=price_1+price_2\n",
        "urls=url_1+url_2\n",
        "id=id_1+id_2\n",
        "df=pd.DataFrame({\n",
        "    'индекс':id,\n",
        "    'название':names,\n",
        "    'цена':prices,\n",
        "    'ссылка':urls\n",
        "})"
      ],
      "metadata": {
        "id": "wNs_lg-aI1eC"
      },
      "execution_count": null,
      "outputs": []
    },
    {
      "cell_type": "code",
      "source": [
        "df.to_csv('mmeff.csv')"
      ],
      "metadata": {
        "id": "snQ2bc4O07S5"
      },
      "execution_count": null,
      "outputs": []
    }
  ]
}